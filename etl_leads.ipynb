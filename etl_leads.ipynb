{
 "cells": [
  {
   "cell_type": "markdown",
   "metadata": {},
   "source": [
    "# ETL dos Dados (Base de Leads)\n",
    "\n",
    "#### Este notebook documenta o processo de extração, transformação e carregamento (ETL) de dados provenientes de uma base de leads de um arquivo excel. Embora os dados sejam fictícios, o objetivo é demonstrar técnicas de ETL utilizando Python e bibliotecas como Pandas, NumPy e outras. Além disso, o notebook aplica machine learning para classificar novos leads com base nos leads convertidos, atribuindo uma pontuação de classificação a cada lead aberto, ajudando a identificar melhores oportunidades de vendas."
   ]
  },
  {
   "cell_type": "code",
   "execution_count": 118,
   "metadata": {},
   "outputs": [],
   "source": [
    "# Importando as bibliotecas iniciais\n",
    "from datetime import datetime\n",
    "from datetime import date\n",
    "import pandas as pd\n",
    "import numpy as np\n",
    "import seaborn as sns\n",
    "import matplotlib.pyplot as plt"
   ]
  },
  {
   "cell_type": "markdown",
   "metadata": {},
   "source": [
    "## Base de Leads"
   ]
  },
  {
   "cell_type": "markdown",
   "metadata": {},
   "source": [
    "Inicialmente, ao carregar a base de dados, foi realizada uma exploração preliminar para identificar possíveis ajustes que possam otimizar o processo de análise."
   ]
  },
  {
   "cell_type": "code",
   "execution_count": 119,
   "metadata": {},
   "outputs": [
    {
     "data": {
      "text/html": [
       "<div>\n",
       "<style scoped>\n",
       "    .dataframe tbody tr th:only-of-type {\n",
       "        vertical-align: middle;\n",
       "    }\n",
       "\n",
       "    .dataframe tbody tr th {\n",
       "        vertical-align: top;\n",
       "    }\n",
       "\n",
       "    .dataframe thead th {\n",
       "        text-align: right;\n",
       "    }\n",
       "</style>\n",
       "<table border=\"1\" class=\"dataframe\">\n",
       "  <thead>\n",
       "    <tr style=\"text-align: right;\">\n",
       "      <th></th>\n",
       "      <th>Data de Criação</th>\n",
       "      <th>id_cliente</th>\n",
       "      <th>Estado</th>\n",
       "      <th>nº funcionários</th>\n",
       "      <th>Tipo de Empresa</th>\n",
       "      <th>Fundação Empresa</th>\n",
       "      <th>Código de Indicação</th>\n",
       "      <th>Persona</th>\n",
       "    </tr>\n",
       "  </thead>\n",
       "  <tbody>\n",
       "    <tr>\n",
       "      <th>0</th>\n",
       "      <td>2021-12-01</td>\n",
       "      <td>23347</td>\n",
       "      <td>SP</td>\n",
       "      <td>5</td>\n",
       "      <td>Escritório Arquitetura/Interiores</td>\n",
       "      <td>2011.0</td>\n",
       "      <td>NaN</td>\n",
       "      <td>Arquitetura/Design</td>\n",
       "    </tr>\n",
       "    <tr>\n",
       "      <th>1</th>\n",
       "      <td>2021-12-01</td>\n",
       "      <td>23348</td>\n",
       "      <td>RS</td>\n",
       "      <td>1</td>\n",
       "      <td>Outros</td>\n",
       "      <td>2020.0</td>\n",
       "      <td>NaN</td>\n",
       "      <td>Outros</td>\n",
       "    </tr>\n",
       "    <tr>\n",
       "      <th>2</th>\n",
       "      <td>2021-12-01</td>\n",
       "      <td>23349</td>\n",
       "      <td>MG</td>\n",
       "      <td>6</td>\n",
       "      <td>Construtora</td>\n",
       "      <td>2021.0</td>\n",
       "      <td>NaN</td>\n",
       "      <td>Engenharia/Construção</td>\n",
       "    </tr>\n",
       "    <tr>\n",
       "      <th>3</th>\n",
       "      <td>2021-12-01</td>\n",
       "      <td>23350</td>\n",
       "      <td>TO</td>\n",
       "      <td>2</td>\n",
       "      <td>Estudante Arquitetura/Interiores</td>\n",
       "      <td>2021.0</td>\n",
       "      <td>NaN</td>\n",
       "      <td>Estudante</td>\n",
       "    </tr>\n",
       "    <tr>\n",
       "      <th>4</th>\n",
       "      <td>2021-12-01</td>\n",
       "      <td>23351</td>\n",
       "      <td>GO</td>\n",
       "      <td>4</td>\n",
       "      <td>Escritório Arquitetura/Interiores</td>\n",
       "      <td>2019.0</td>\n",
       "      <td>NaN</td>\n",
       "      <td>Arquitetura/Design</td>\n",
       "    </tr>\n",
       "  </tbody>\n",
       "</table>\n",
       "</div>"
      ],
      "text/plain": [
       "  Data de Criação  id_cliente Estado nº funcionários  \\\n",
       "0      2021-12-01       23347     SP               5   \n",
       "1      2021-12-01       23348     RS               1   \n",
       "2      2021-12-01       23349     MG               6   \n",
       "3      2021-12-01       23350     TO               2   \n",
       "4      2021-12-01       23351     GO               4   \n",
       "\n",
       "                     Tipo de Empresa  Fundação Empresa Código de Indicação  \\\n",
       "0  Escritório Arquitetura/Interiores            2011.0                 NaN   \n",
       "1                             Outros            2020.0                 NaN   \n",
       "2                        Construtora            2021.0                 NaN   \n",
       "3   Estudante Arquitetura/Interiores            2021.0                 NaN   \n",
       "4  Escritório Arquitetura/Interiores            2019.0                 NaN   \n",
       "\n",
       "                 Persona  \n",
       "0     Arquitetura/Design  \n",
       "1                 Outros  \n",
       "2  Engenharia/Construção  \n",
       "3              Estudante  \n",
       "4     Arquitetura/Design  "
      ]
     },
     "execution_count": 119,
     "metadata": {},
     "output_type": "execute_result"
    }
   ],
   "source": [
    "#carregando base de leads e visualizando as 5 primeiras linhas\n",
    "df_leads_original = pd.read_excel(\"base_de_leads_origin.xlsx\", sheet_name=\"Leads\")\n",
    "df_leads_original.head()"
   ]
  },
  {
   "cell_type": "code",
   "execution_count": 120,
   "metadata": {},
   "outputs": [
    {
     "name": "stdout",
     "output_type": "stream",
     "text": [
      "<class 'pandas.core.frame.DataFrame'>\n",
      "RangeIndex: 11533 entries, 0 to 11532\n",
      "Data columns (total 8 columns):\n",
      " #   Column               Non-Null Count  Dtype         \n",
      "---  ------               --------------  -----         \n",
      " 0   Data de Criação      11533 non-null  datetime64[ns]\n",
      " 1   id_cliente           11533 non-null  int64         \n",
      " 2   Estado               11283 non-null  object        \n",
      " 3   nº funcionários      10863 non-null  object        \n",
      " 4   Tipo de Empresa      11533 non-null  object        \n",
      " 5   Fundação Empresa     11297 non-null  float64       \n",
      " 6   Código de Indicação  431 non-null    object        \n",
      " 7   Persona              11267 non-null  object        \n",
      "dtypes: datetime64[ns](1), float64(1), int64(1), object(5)\n",
      "memory usage: 720.9+ KB\n"
     ]
    }
   ],
   "source": [
    "#verificando o tipo dos campos\n",
    "df_leads_original.info()"
   ]
  },
  {
   "cell_type": "markdown",
   "metadata": {},
   "source": [
    "Ao analisar o output da célula anterior, chamou atenção o fato de o campo \"n° funcionários\" estar classificado como object, mesmo apresentando valores numéricos nas cinco primeiras linhas. Por isso, foi necessário investigar o caso mais a fundo."
   ]
  },
  {
   "cell_type": "code",
   "execution_count": 121,
   "metadata": {},
   "outputs": [
    {
     "data": {
      "text/plain": [
       "2063    Pequeno ou médio escritório de Arquitetura (En...\n",
       "3950    Pequeno ou médio escritório de Arquitetura (En...\n",
       "Name: nº funcionários, dtype: object"
      ]
     },
     "execution_count": 121,
     "metadata": {},
     "output_type": "execute_result"
    }
   ],
   "source": [
    "# identificando possíveis valores não numéricos\n",
    "valores_nao_numericos = df_leads_original[df_leads_original['nº funcionários'].apply(lambda x: isinstance(x, str))]\n",
    "valores_nao_numericos['nº funcionários']"
   ]
  },
  {
   "cell_type": "markdown",
   "metadata": {},
   "source": [
    "Foram encontrados dois casos em que os valores da coluna estavam armazenados como strings, o que explicava o motivo de a coluna ser tratada como object. A solução adotada foi converter esses valores para numéricos, já que a maioria das linhas continha valores numéricos, a fim de garantir a padronização da coluna. Além disso, foi criada uma nova coluna, \"Faixa de Funcionários\", com categorias do tipo \"de X a Y funcionários\", para ajudar na análise e na construção de modelos preditivos posteriores. Ambas as colunas foram mantidas para preservar o histórico dos dados. Em um ambiente de produção, esses ajustes seriam feitos entre as camadas (bronze, silver e gold), seguindo boas práticas de governança de dados."
   ]
  },
  {
   "cell_type": "code",
   "execution_count": 122,
   "metadata": {},
   "outputs": [],
   "source": [
    "# Função para converter valor em string para número, padronizando os valores da coluna \"nº funcionários\"\n",
    "def substituir_valores_nao_numericos(valor):\n",
    "    if pd.isnull(valor):  \n",
    "        return np.nan\n",
    "    try:\n",
    "        # Tenta converter o tipo para número, caso o valor do campo já seja um número\n",
    "        return int(valor)\n",
    "    except ValueError:\n",
    "        # Se não for número, extrai os números presentes na possível string(\"de 10 a 21 funcionários\")\n",
    "        numeros = [int(n) for n in str(valor).split() if n.isdigit()]\n",
    "        if len(numeros) >= 2:  # Calcula a média dos números extraídos e arredonda para o inteiro mais próximo\n",
    "            return int(round(np.mean(numeros)))\n",
    "        elif len(numeros) == 1:  # Caso a lista de números tenha apenas um número, retorna o próprio número\n",
    "            return numeros[0]\n",
    "        else:  # Se não encontrar nenhum numero, retorna NaN(Not a Number)\n",
    "            return np.nan\n",
    "\n",
    "# Criar uma cópia do DataFrame original para salvar as alterações, de modo a manter um histórico das tabelas.\n",
    "# Nessa cópia será inculido não somente o ajuste acima, mas todos referentes a modificações e criações de colunas\n",
    "# em relação ao arquivo original.\n",
    "df_leads_ajustes = df_leads_original.copy()\n",
    "\n",
    "# Aplica a função para corrigir a coluna na nova versão da tabela\n",
    "df_leads_ajustes['nº funcionários'] = df_leads_original['nº funcionários'].apply(substituir_valores_nao_numericos)\n"
   ]
  },
  {
   "cell_type": "markdown",
   "metadata": {},
   "source": [
    "Além da transformação mencionada, a coluna \"nº Funcionários\" passou por outros ajustes para garantir a consistência dos dados. Foram identificados e removidos valores inconsistentes, como números negativos, que não fazem sentido nesse contexto. Além disso, todos os valores nulos foram preenchidos com \"-1\", adotando um valor padrão para indicar a ausência de informação."
   ]
  },
  {
   "cell_type": "code",
   "execution_count": 123,
   "metadata": {},
   "outputs": [
    {
     "name": "stdout",
     "output_type": "stream",
     "text": [
      "Data de Criação            0\n",
      "id_cliente                 0\n",
      "Estado                   250\n",
      "nº funcionários          670\n",
      "Tipo de Empresa            0\n",
      "Fundação Empresa         236\n",
      "Código de Indicação    11102\n",
      "Persona                  266\n",
      "dtype: int64\n"
     ]
    }
   ],
   "source": [
    "#verificando valores nulos em cada campo, os demais campos também serão tratados posteriormente\n",
    "valores_nulos = df_leads_ajustes.isnull().sum()\n",
    "print(valores_nulos)\n"
   ]
  },
  {
   "cell_type": "code",
   "execution_count": 124,
   "metadata": {},
   "outputs": [
    {
     "data": {
      "image/png": "[encoded data removed]",
      "text/plain": [
       "<Figure size 1200x500 with 1 Axes>"
      ]
     },
     "metadata": {},
     "output_type": "display_data"
    }
   ],
   "source": [
    "#visualizando distribuição dos valores para o campo \"nº funcionários\", ajudando a indentificar possíveis\n",
    "#inconsistências como o valor negativo \"-120\", esse processo também foi feito para outros campos posteriormente.\n",
    "df_leads_ajustes['nº funcionários'].value_counts().sort_index().plot(kind='bar', figsize=(12, 5))\n",
    "plt.xlabel(\"Nº de funcionários\")\n",
    "plt.ylabel(\"Frequência\")\n",
    "plt.title(\"Distribuição dos valores únicos de nº funcionários\")\n",
    "plt.xticks(rotation=45)  # Rotaciona os rótulos para melhor visualização\n",
    "plt.show()"
   ]
  },
  {
   "cell_type": "code",
   "execution_count": 125,
   "metadata": {},
   "outputs": [
    {
     "name": "stderr",
     "output_type": "stream",
     "text": [
      "C:\\Users\\55359\\AppData\\Local\\Temp\\ipykernel_4764\\35329099.py:3: FutureWarning: A value is trying to be set on a copy of a DataFrame or Series through chained assignment using an inplace method.\n",
      "The behavior will change in pandas 3.0. This inplace method will never work because the intermediate object on which we are setting values always behaves as a copy.\n",
      "\n",
      "For example, when doing 'df[col].method(value, inplace=True)', try using 'df.method({col: value}, inplace=True)' or df[col] = df[col].method(value) instead, to perform the operation inplace on the original object.\n",
      "\n",
      "\n",
      "  df_leads_ajustes['nº funcionários'].fillna(-1, inplace=True)\n"
     ]
    }
   ],
   "source": [
    "# Alterar valores inconsistentes (\"NaN\" e menores que 1) para o valor padrão(-1)\n",
    "df_leads_ajustes.loc[df_leads_ajustes['nº funcionários'] < 1, 'nº funcionários'] = -1\n",
    "df_leads_ajustes['nº funcionários'].fillna(-1, inplace=True)"
   ]
  },
  {
   "cell_type": "markdown",
   "metadata": {},
   "source": [
    "Após os ajustes na coluna \"nº funcionários\", foi possível criar a coluna auxiliar \"Faixa de Funcionários\", conforme mencionado anteriormente."
   ]
  },
  {
   "cell_type": "code",
   "execution_count": 126,
   "metadata": {},
   "outputs": [
    {
     "data": {
      "text/plain": [
       "Faixa de Funcionários\n",
       "De 1 a 5 funcionários        9801\n",
       "De 6 a 10 funcionários        803\n",
       "Não Informado                 701\n",
       "De 11 a 20 funcionários       186\n",
       "De 51 a 100 funcionários       18\n",
       "De 21 a 50 funcionários        17\n",
       "Mais de 500 funcionários        4\n",
       "De 101 a 500 funcionários       3\n",
       "Name: count, dtype: int64"
      ]
     },
     "execution_count": 126,
     "metadata": {},
     "output_type": "execute_result"
    }
   ],
   "source": [
    "def categorizar_faixa_funcionarios(n):\n",
    "    if n == -1 or pd.isnull(n):  \n",
    "        return \"Não Informado\"\n",
    "    elif n <= 5:\n",
    "        return \"De 1 a 5 funcionários\"\n",
    "    elif n <= 10:\n",
    "        return \"De 6 a 10 funcionários\"\n",
    "    elif n <= 20:\n",
    "        return \"De 11 a 20 funcionários\"\n",
    "    elif n <= 50:\n",
    "        return \"De 21 a 50 funcionários\"\n",
    "    elif n <= 100:\n",
    "        return \"De 51 a 100 funcionários\"\n",
    "    elif n <= 500:\n",
    "        return \"De 101 a 500 funcionários\"\n",
    "    else:\n",
    "        return \"Mais de 500 funcionários\"\n",
    "\n",
    "# Criar a nova coluna aplicando a função\n",
    "df_leads_ajustes[\"Faixa de Funcionários\"] = df_leads_ajustes[\"nº funcionários\"].apply(categorizar_faixa_funcionarios)\n",
    "\n",
    "# Verificar a distribuição\n",
    "df_leads_ajustes[\"Faixa de Funcionários\"].value_counts()"
   ]
  },
  {
   "cell_type": "markdown",
   "metadata": {},
   "source": [
    "Após o tratamento da coluna \"nº funcionários\", foi realizada a padronização das colunas \"Persona\" e \"Tipo de Empresa\", que apresentavam problemas semelhantes. Dentre os principais problemas identificados, havia a duplicidade de categorias devido a erros de ortografia, como \"Empreteiro\" e \"Empreiteiro\", além de categorias registradas de formas diferentes, como \"Design\" e \"Arquitetura/Design\", sendo que a segunda já englobava a primeira na maior parte dos registros.\n",
    "\n",
    "Para corrigir essas inconsistências, foi utilizado um algoritmo de similaridade da biblioteca RapidFuzz, que compara cada categoria com um conjunto de valores corretos pré-definidos. Quando a similaridade entre um valor encontrado e uma categoria correta atinge um determinado limite, o valor é atualizado para a versão padronizada. Dessa forma, garantimos maior consistência nos dados, eliminando redundâncias e unificando as informações para uma análise mais precisa."
   ]
  },
  {
   "cell_type": "code",
   "execution_count": 127,
   "metadata": {},
   "outputs": [
    {
     "data": {
      "text/plain": [
       "(                  Persona  Contagem\n",
       " 0      Arquitetura/Design      7609\n",
       " 1               Estudante      1174\n",
       " 2   Engenharia/Construção      1136\n",
       " 3                  Outros      1035\n",
       " 4           Não Informado       300\n",
       " 5   Engenharia/Construcao         3\n",
       " 6             Arquitetura         3\n",
       " 7              Engenharia         2\n",
       " 8               estudante         1\n",
       " 9              Construção         1\n",
       " 10                 Design         1\n",
       " 11      Arquitetra/Design         1\n",
       " 12      Arquitetura/Desig         1,\n",
       "                       Tipo de Empresa  Contagem\n",
       " 0   Escritório Arquitetura/Interiores      7615\n",
       " 1    Estudante Arquitetura/Interiores      1175\n",
       " 2                              Outros       947\n",
       " 3                       Não Informado       566\n",
       " 4                  Empresa de Reforma       541\n",
       " 5                         Construtora       504\n",
       " 6                         Empreiteiro        94\n",
       " 7                   Móveis Planejados        75\n",
       " 8                          Fornecedor        13\n",
       " 9                 Empresa de Reformas         2\n",
       " 10                         Empreteiro         1)"
      ]
     },
     "execution_count": 127,
     "metadata": {},
     "output_type": "execute_result"
    }
   ],
   "source": [
    "# Verificando a distribuição de valores na coluna \"Persona\" e \"Tipo de Empresa\", incluindo categorias com erros\n",
    "df_persona_dist = df_leads_ajustes['Persona'].value_counts().reset_index()\n",
    "df_persona_dist.columns = ['Persona', 'Contagem']\n",
    "\n",
    "df_tipo_empresa_dist = df_leads_ajustes['Tipo de Empresa'].value_counts().reset_index()\n",
    "df_tipo_empresa_dist.columns = ['Tipo de Empresa', 'Contagem']\n",
    "\n",
    "# Exibindo ambas as tabelas\n",
    "df_persona_dist, df_tipo_empresa_dist\n"
   ]
  },
  {
   "cell_type": "code",
   "execution_count": 128,
   "metadata": {},
   "outputs": [],
   "source": [
    "# Importando a biblioteca utilizada para comparação de similaridade entre strings\n",
    "from rapidfuzz import fuzz, process  \n",
    "\n",
    "# Listas de categorias corretas para as colunas \"Persona\" e \"Tipo de Empresa\"\n",
    "personas = [\"Arquitetura/Design\", \"Engenharia/Construção\", \"Estudante\", \"Não Informado\", \"Outros\"]  \n",
    "tipo_de_empresa = [\"Construtora\", \"Empreiteiro\", \"Escritório Arquitetura/Interiores\", \n",
    "                   \"Empresa de Reformas\", \"Estudante Arquitetura/Interiores\", \"Fornecedor\",\n",
    "                   \"Móveis Planejados\", \"Outros\"]  \n",
    "\n",
    "# Função genérica para corrigir valores com base na similaridade\n",
    "def corrigir_categorias(valor, lista_categorias, limite_similaridade):\n",
    "    \"\"\"\n",
    "    Corrige valores categóricos comparando com uma lista de categorias corretas utilizando similaridade.\n",
    "    \n",
    "    Parâmetros:\n",
    "    valor (str): Valor a ser corrigido.\n",
    "    lista_categorias (list): Lista de categorias corretas.\n",
    "    limite_similaridade (int): Valor mínimo de similaridade para considerar uma correspondência válida.\n",
    "\n",
    "    Retorno:\n",
    "    str: Valor corrigido ou valor original, se nenhuma correspondência satisfatória for encontrada.\n",
    "    \"\"\"\n",
    "    if pd.isnull(valor):  # Verifica se o valor é nulo\n",
    "        return \"Não Informado\"\n",
    "\n",
    "    # Encontra a melhor correspondência usando RapidFuzz\n",
    "    melhor_correspondencia = process.extractOne(valor, lista_categorias, scorer=fuzz.ratio)\n",
    "    \n",
    "    # Valida se a melhor correspondência atende ao limite de similaridade\n",
    "    if melhor_correspondencia and melhor_correspondencia[1] >= limite_similaridade:\n",
    "        return melhor_correspondencia[0]\n",
    "    \n",
    "    return valor  # Retorna o valor original se nenhuma correspondência adequada for encontrada\n",
    "\n",
    "# Aplicando a função de correção para a coluna \"Persona\"\n",
    "df_leads_ajustes['Persona'] = df_leads_ajustes['Persona'].apply(lambda x: corrigir_categorias(x, personas, 50))\n",
    "\n",
    "# Aplicando a função de correção para a coluna \"Tipo de Empresa\"\n",
    "df_leads_ajustes['Tipo de Empresa'] = df_leads_ajustes['Tipo de Empresa'].apply(lambda x: corrigir_categorias(x, tipo_de_empresa, 80))\n"
   ]
  },
  {
   "cell_type": "code",
   "execution_count": 129,
   "metadata": {},
   "outputs": [
    {
     "data": {
      "text/plain": [
       "(                 Persona  Contagem\n",
       " 0     Arquitetura/Design      7615\n",
       " 1              Estudante      1175\n",
       " 2  Engenharia/Construção      1142\n",
       " 3                 Outros      1035\n",
       " 4          Não Informado       566,\n",
       "                      Tipo de Empresa  Contagem\n",
       " 0  Escritório Arquitetura/Interiores      7615\n",
       " 1   Estudante Arquitetura/Interiores      1175\n",
       " 2                             Outros       947\n",
       " 3                      Não Informado       566\n",
       " 4                Empresa de Reformas       543\n",
       " 5                        Construtora       504\n",
       " 6                        Empreiteiro        95\n",
       " 7                  Móveis Planejados        75\n",
       " 8                         Fornecedor        13)"
      ]
     },
     "execution_count": 129,
     "metadata": {},
     "output_type": "execute_result"
    }
   ],
   "source": [
    "# Verificando a distribuição de valores na coluna \"Persona\" e \"Tipo de Empresa\", após as correções\n",
    "df_persona_dist = df_leads_ajustes['Persona'].value_counts().reset_index()\n",
    "df_persona_dist.columns = ['Persona', 'Contagem']\n",
    "\n",
    "df_tipo_empresa_dist = df_leads_ajustes['Tipo de Empresa'].value_counts().reset_index()\n",
    "df_tipo_empresa_dist.columns = ['Tipo de Empresa', 'Contagem']\n",
    "\n",
    "# Exibindo ambas as tabelas\n",
    "df_persona_dist, df_tipo_empresa_dist\n"
   ]
  },
  {
   "cell_type": "markdown",
   "metadata": {},
   "source": [
    "A coluna \"Fundação Empresa\", que contém o ano de fundação das empresas, passou por ajustes devido à presença de valores inconsistentes. Foram identificados casos com anos no futuro, como 2046, 2038 e 2036, além de registros onde o ano de fundação era posterior à data de criação do lead. Por exemplo, uma empresa com fundação em 2022, mas cujo lead foi criado em 2021, apresentava uma inconsistência temporal.\n",
    "\n",
    "Além disso, a base de dados continha anos excessivamente antigos, como 1800, que não fazem sentido no contexto analisado. Também foram encontrados valores como \"1\", \"4\" e \"22\", além de valores negativos, que não representam um ano válido. Para garantir uma análise coerente, foram considerados apenas os anos a partir de 1930, visto que anos anteriores não são representativos para a realidade das empresas analisadas.\n",
    "\n",
    "Para corrigir essas inconsistências, foi realizada uma validação cruzada entre o ano de fundação da empresa e a data de criação do lead. Se o ano de fundação fosse maior que o ano de criação do lead, ele era considerado inválido e substituído pelo valor \"-1\". Da mesma forma, anos irreais, valores negativos e registros não numéricos também foram padronizados como \"-1\".\n",
    "\n",
    "Após essa limpeza, foi criada uma nova coluna categorizando a idade das empresas em faixas etárias, facilitando análises futuras e permitindo insights mais estruturados sobre a distribuição das empresas por tempo de mercado.\n",
    "\n",
    "Para tornar essa categorização mais robusta e aplicável em um ambiente real, foi definida uma data fictícia de análise: abril de 2022. Essa escolha se deve ao fato de que a data de criação do lead mais recente na base é março de 2022, e para garantir a consistência do cálculo da idade das empresas, adotamos o mês seguinte como referência temporal fixa. Em um ambiente real, essa abordagem seria dinâmica, considerando que a base de leads é atualizada diariamente. Assim, o cálculo da idade das empresas utilizaria sempre a data atual como referência."
   ]
  },
  {
   "cell_type": "code",
   "execution_count": 130,
   "metadata": {},
   "outputs": [
    {
     "name": "stderr",
     "output_type": "stream",
     "text": [
      "C:\\Users\\55359\\AppData\\Local\\Temp\\ipykernel_4764\\2685833917.py:16: FutureWarning: A value is trying to be set on a copy of a DataFrame or Series through chained assignment using an inplace method.\n",
      "The behavior will change in pandas 3.0. This inplace method will never work because the intermediate object on which we are setting values always behaves as a copy.\n",
      "\n",
      "For example, when doing 'df[col].method(value, inplace=True)', try using 'df.method({col: value}, inplace=True)' or df[col] = df[col].method(value) instead, to perform the operation inplace on the original object.\n",
      "\n",
      "\n",
      "  df_leads_ajustes['Fundação Empresa'].fillna(-1, inplace=True)\n"
     ]
    }
   ],
   "source": [
    "# Capturar o ano da coluna \"Data de Criação\" para posterior comparação\n",
    "df_leads_ajustes['Ano de Criação'] = pd.to_datetime(df_leads_ajustes['Data de Criação'], errors='coerce').dt.year\n",
    "\n",
    "# Garantir que \"Fundação Empresa\" seja numérico, substituindo valores não numéricos por NaN\n",
    "df_leads_ajustes['Fundação Empresa'] = pd.to_numeric(df_leads_ajustes['Fundação Empresa'], errors='coerce')\n",
    "\n",
    "# Aplicar regras de validação:\n",
    "# - Valores menores que 1930 ou maiores que o ano de criação do lead serão substituídos por -1\n",
    "df_leads_ajustes.loc[\n",
    "    (df_leads_ajustes['Fundação Empresa'] < 1930) |\n",
    "    (df_leads_ajustes['Fundação Empresa'] > df_leads_ajustes['Ano de Criação']),\n",
    "    'Fundação Empresa'\n",
    "] = -1\n",
    "\n",
    "# Substituir valores vazios ou NaN por -1\n",
    "df_leads_ajustes['Fundação Empresa'].fillna(-1, inplace=True)\n",
    "\n",
    "# Remover a coluna auxiliar \"Ano de Criação\" após o ajuste\n",
    "df_leads_ajustes.drop(columns=['Ano de Criação'], inplace=True)"
   ]
  },
  {
   "cell_type": "code",
   "execution_count": 131,
   "metadata": {},
   "outputs": [],
   "source": [
    "# Definir o ano de referência para a análise (ambiente fictício: abril de 2022)\n",
    "ano_referencia = 2022\n",
    "\n",
    "# Calcular a idade da empresa com base no ano de referência\n",
    "df_leads_ajustes['Idade Empresa'] = ano_referencia - df_leads_ajustes['Fundação Empresa']\n",
    "\n",
    "# Função para categorizar a idade da empresa\n",
    "def categorizar_idade(idade):\n",
    "    if idade == (ano_referencia + 1):  # Empresas com -1 (dados inválidos)\n",
    "        return \"Não Informado\"\n",
    "    elif idade <= 2:\n",
    "        return \"Recém-criada\"\n",
    "    elif idade <= 9:\n",
    "        return \"Jovem\"\n",
    "    elif idade <= 19:\n",
    "        return \"Estabelecida\"\n",
    "    elif idade <= 39:\n",
    "        return \"Tradicional\"\n",
    "    elif idade <= 69:\n",
    "        return \"Consolidada\"\n",
    "    else:\n",
    "        return \"Histórica\"\n",
    "\n",
    "# Aplicar a categorização na nova coluna\n",
    "df_leads_ajustes['Faixa Etária Empresa'] = df_leads_ajustes['Idade Empresa'].apply(categorizar_idade)\n",
    "\n",
    "# Remover a coluna auxiliar \"Idade Empresa\"\n",
    "df_leads_ajustes.drop(columns=['Idade Empresa'], inplace=True)"
   ]
  },
  {
   "cell_type": "markdown",
   "metadata": {},
   "source": [
    "Para conluir, foi feito tratamento de valores nulos nas colunas \"Estado\" e \"Código de Indicação\" foi realizado para garantir que as informações estejam completas e consistentes para análises futuras. Para a coluna \"Estado\"  os valores ausentes foi preenchido com o valor \"Não Informado\". Isso assegura que, mesmo quando a informação de estado não é fornecida, a coluna manterá um valor válido e consistente.\n",
    "\n",
    "De maneira semelhante, a coluna \"Código de Indicação\" os valores nulos foram substituídos por \"Sem Indicação\".\n",
    "\n",
    "Esses ajustes contribuem para a consistência da base de dados, evitando problemas em etapas posteriores de análise e permitindo que o processamento dos dados seja feito sem interrupções ou falhas causadas por valores ausentes."
   ]
  },
  {
   "cell_type": "code",
   "execution_count": 132,
   "metadata": {},
   "outputs": [
    {
     "name": "stderr",
     "output_type": "stream",
     "text": [
      "C:\\Users\\55359\\AppData\\Local\\Temp\\ipykernel_4764\\2295934623.py:2: FutureWarning: A value is trying to be set on a copy of a DataFrame or Series through chained assignment using an inplace method.\n",
      "The behavior will change in pandas 3.0. This inplace method will never work because the intermediate object on which we are setting values always behaves as a copy.\n",
      "\n",
      "For example, when doing 'df[col].method(value, inplace=True)', try using 'df.method({col: value}, inplace=True)' or df[col] = df[col].method(value) instead, to perform the operation inplace on the original object.\n",
      "\n",
      "\n",
      "  df_leads_ajustes['Estado'].fillna('Não Informado', inplace=True)\n",
      "C:\\Users\\55359\\AppData\\Local\\Temp\\ipykernel_4764\\2295934623.py:5: FutureWarning: A value is trying to be set on a copy of a DataFrame or Series through chained assignment using an inplace method.\n",
      "The behavior will change in pandas 3.0. This inplace method will never work because the intermediate object on which we are setting values always behaves as a copy.\n",
      "\n",
      "For example, when doing 'df[col].method(value, inplace=True)', try using 'df.method({col: value}, inplace=True)' or df[col] = df[col].method(value) instead, to perform the operation inplace on the original object.\n",
      "\n",
      "\n",
      "  df_leads_ajustes['Código de Indicação'].fillna('Sem Indicação', inplace=True)\n"
     ]
    }
   ],
   "source": [
    "# Preencher valores nulos na coluna \"Estado\" com \"Não Informado\"\n",
    "df_leads_ajustes['Estado'].fillna('Não Informado', inplace=True)\n",
    "\n",
    "# Preencher valores nulos na coluna \"Código de Indicação\" com \"Sem Indicação\"\n",
    "df_leads_ajustes['Código de Indicação'].fillna('Sem Indicação', inplace=True)\n"
   ]
  },
  {
   "cell_type": "markdown",
   "metadata": {},
   "source": [
    "Para concluir as tratativas na base de leads, as colunas foram renomeadas para garantir maior clareza e padronização dos dados. Em um ambiente de produção, a renomeação de colunas é uma prática essencial, pois melhora a legibilidade, facilita a manutenção da base e reduz o risco de erros em processos posteriores, como consultas, integrações e análises. "
   ]
  },
  {
   "cell_type": "code",
   "execution_count": 133,
   "metadata": {},
   "outputs": [],
   "source": [
    "# Dicionário com os novos nomes das colunas\n",
    "novos_nomes = {\n",
    "    'nº funcionários': 'Número de Funcionários',\n",
    "    'Faixa Etária Empresa': 'Faixa Etária da Empresa',\n",
    "    'Fundação Empresa': 'Fundação da Empresa'\n",
    "    # Adicione as colunas que deseja renomear\n",
    "}\n",
    "\n",
    "# Renomear as colunas especificadas no dicionário\n",
    "df_leads_ajustes.rename(columns=novos_nomes, inplace=True)"
   ]
  },
  {
   "cell_type": "markdown",
   "metadata": {},
   "source": [
    "# Base de Vendas"
   ]
  },
  {
   "cell_type": "markdown",
   "metadata": {},
   "source": [
    "Após a conclusão dos ajustes na base de leads, foi realizada uma integração com a base de vendas utilizando o \"id_cliente\" como chave de junção. Essa base de vendas contém informações sobre os clientes que efetivamente fecharam negócios, além da data de assinatura do contrato. Com o cruzamento das duas bases, foi possível vincular os leads com seus respectivos registros de vendas, permitindo uma análise mais precisa sobre o processo de conversão e o comportamento dos clientes ao longo do tempo.\n",
    "\n",
    "Essas informações de vendas foram posteriormente utilizadas em um notebook para treinar um modelo de machine learning, cujo objetivo é identificar padrões entre os leads convertidos. Esse modelo é capaz de classificar os novos leads que entram na base, proporcionando uma segmentação mais eficaz e auxiliando na priorização dos leads com maior potencial de conversão."
   ]
  },
  {
   "cell_type": "code",
   "execution_count": 134,
   "metadata": {},
   "outputs": [
    {
     "data": {
      "text/html": [
       "<div>\n",
       "<style scoped>\n",
       "    .dataframe tbody tr th:only-of-type {\n",
       "        vertical-align: middle;\n",
       "    }\n",
       "\n",
       "    .dataframe tbody tr th {\n",
       "        vertical-align: top;\n",
       "    }\n",
       "\n",
       "    .dataframe thead th {\n",
       "        text-align: right;\n",
       "    }\n",
       "</style>\n",
       "<table border=\"1\" class=\"dataframe\">\n",
       "  <thead>\n",
       "    <tr style=\"text-align: right;\">\n",
       "      <th></th>\n",
       "      <th>id_cliente</th>\n",
       "      <th>Data da assinatura</th>\n",
       "    </tr>\n",
       "  </thead>\n",
       "  <tbody>\n",
       "    <tr>\n",
       "      <th>0</th>\n",
       "      <td>24850</td>\n",
       "      <td>2022-01-03</td>\n",
       "    </tr>\n",
       "    <tr>\n",
       "      <th>1</th>\n",
       "      <td>25006</td>\n",
       "      <td>2022-01-03</td>\n",
       "    </tr>\n",
       "    <tr>\n",
       "      <th>2</th>\n",
       "      <td>25289</td>\n",
       "      <td>2022-01-03</td>\n",
       "    </tr>\n",
       "    <tr>\n",
       "      <th>3</th>\n",
       "      <td>25452</td>\n",
       "      <td>2022-01-03</td>\n",
       "    </tr>\n",
       "    <tr>\n",
       "      <th>4</th>\n",
       "      <td>25576</td>\n",
       "      <td>2022-01-03</td>\n",
       "    </tr>\n",
       "  </tbody>\n",
       "</table>\n",
       "</div>"
      ],
      "text/plain": [
       "   id_cliente Data da assinatura\n",
       "0       24850         2022-01-03\n",
       "1       25006         2022-01-03\n",
       "2       25289         2022-01-03\n",
       "3       25452         2022-01-03\n",
       "4       25576         2022-01-03"
      ]
     },
     "execution_count": 134,
     "metadata": {},
     "output_type": "execute_result"
    }
   ],
   "source": [
    "df_vendas = pd.read_excel(\"base_de_leads_origin.xlsx\", sheet_name=\"Vendas\")\n",
    "df_vendas.head()"
   ]
  },
  {
   "cell_type": "code",
   "execution_count": 135,
   "metadata": {},
   "outputs": [
    {
     "name": "stdout",
     "output_type": "stream",
     "text": [
      "<class 'pandas.core.frame.DataFrame'>\n",
      "RangeIndex: 944 entries, 0 to 943\n",
      "Data columns (total 2 columns):\n",
      " #   Column              Non-Null Count  Dtype         \n",
      "---  ------              --------------  -----         \n",
      " 0   id_cliente          944 non-null    int64         \n",
      " 1   Data da assinatura  944 non-null    datetime64[ns]\n",
      "dtypes: datetime64[ns](1), int64(1)\n",
      "memory usage: 14.9 KB\n"
     ]
    }
   ],
   "source": [
    "df_vendas.info()"
   ]
  },
  {
   "cell_type": "markdown",
   "metadata": {},
   "source": [
    "Juntando as duas bases através do Id_Cliente"
   ]
  },
  {
   "cell_type": "code",
   "execution_count": 136,
   "metadata": {},
   "outputs": [],
   "source": [
    "df_geral = pd.merge(\n",
    "    df_leads_ajustes,\n",
    "    df_vendas,\n",
    "    on='id_cliente',\n",
    "    how='outer'\n",
    ")"
   ]
  },
  {
   "cell_type": "code",
   "execution_count": 137,
   "metadata": {},
   "outputs": [
    {
     "data": {
      "text/html": [
       "<div>\n",
       "<style scoped>\n",
       "    .dataframe tbody tr th:only-of-type {\n",
       "        vertical-align: middle;\n",
       "    }\n",
       "\n",
       "    .dataframe tbody tr th {\n",
       "        vertical-align: top;\n",
       "    }\n",
       "\n",
       "    .dataframe thead th {\n",
       "        text-align: right;\n",
       "    }\n",
       "</style>\n",
       "<table border=\"1\" class=\"dataframe\">\n",
       "  <thead>\n",
       "    <tr style=\"text-align: right;\">\n",
       "      <th></th>\n",
       "      <th>Data de Criação</th>\n",
       "      <th>id_cliente</th>\n",
       "      <th>Estado</th>\n",
       "      <th>Número de Funcionários</th>\n",
       "      <th>Tipo de Empresa</th>\n",
       "      <th>Fundação da Empresa</th>\n",
       "      <th>Código de Indicação</th>\n",
       "      <th>Persona</th>\n",
       "      <th>Faixa de Funcionários</th>\n",
       "      <th>Faixa Etária da Empresa</th>\n",
       "      <th>Data da assinatura</th>\n",
       "    </tr>\n",
       "  </thead>\n",
       "  <tbody>\n",
       "    <tr>\n",
       "      <th>0</th>\n",
       "      <td>NaT</td>\n",
       "      <td>1427</td>\n",
       "      <td>NaN</td>\n",
       "      <td>NaN</td>\n",
       "      <td>NaN</td>\n",
       "      <td>NaN</td>\n",
       "      <td>NaN</td>\n",
       "      <td>NaN</td>\n",
       "      <td>NaN</td>\n",
       "      <td>NaN</td>\n",
       "      <td>2022-02-02</td>\n",
       "    </tr>\n",
       "    <tr>\n",
       "      <th>1</th>\n",
       "      <td>NaT</td>\n",
       "      <td>10234</td>\n",
       "      <td>NaN</td>\n",
       "      <td>NaN</td>\n",
       "      <td>NaN</td>\n",
       "      <td>NaN</td>\n",
       "      <td>NaN</td>\n",
       "      <td>NaN</td>\n",
       "      <td>NaN</td>\n",
       "      <td>NaN</td>\n",
       "      <td>2022-03-21</td>\n",
       "    </tr>\n",
       "    <tr>\n",
       "      <th>2</th>\n",
       "      <td>NaT</td>\n",
       "      <td>19101</td>\n",
       "      <td>NaN</td>\n",
       "      <td>NaN</td>\n",
       "      <td>NaN</td>\n",
       "      <td>NaN</td>\n",
       "      <td>NaN</td>\n",
       "      <td>NaN</td>\n",
       "      <td>NaN</td>\n",
       "      <td>NaN</td>\n",
       "      <td>2022-01-24</td>\n",
       "    </tr>\n",
       "    <tr>\n",
       "      <th>3</th>\n",
       "      <td>2021-12-01</td>\n",
       "      <td>23347</td>\n",
       "      <td>SP</td>\n",
       "      <td>5.0</td>\n",
       "      <td>Escritório Arquitetura/Interiores</td>\n",
       "      <td>2011.0</td>\n",
       "      <td>Sem Indicação</td>\n",
       "      <td>Arquitetura/Design</td>\n",
       "      <td>De 1 a 5 funcionários</td>\n",
       "      <td>Estabelecida</td>\n",
       "      <td>NaT</td>\n",
       "    </tr>\n",
       "    <tr>\n",
       "      <th>4</th>\n",
       "      <td>2021-12-01</td>\n",
       "      <td>23348</td>\n",
       "      <td>RS</td>\n",
       "      <td>1.0</td>\n",
       "      <td>Outros</td>\n",
       "      <td>2020.0</td>\n",
       "      <td>Sem Indicação</td>\n",
       "      <td>Outros</td>\n",
       "      <td>De 1 a 5 funcionários</td>\n",
       "      <td>Recém-criada</td>\n",
       "      <td>NaT</td>\n",
       "    </tr>\n",
       "  </tbody>\n",
       "</table>\n",
       "</div>"
      ],
      "text/plain": [
       "  Data de Criação  id_cliente Estado  Número de Funcionários  \\\n",
       "0             NaT        1427    NaN                     NaN   \n",
       "1             NaT       10234    NaN                     NaN   \n",
       "2             NaT       19101    NaN                     NaN   \n",
       "3      2021-12-01       23347     SP                     5.0   \n",
       "4      2021-12-01       23348     RS                     1.0   \n",
       "\n",
       "                     Tipo de Empresa  Fundação da Empresa Código de Indicação  \\\n",
       "0                                NaN                  NaN                 NaN   \n",
       "1                                NaN                  NaN                 NaN   \n",
       "2                                NaN                  NaN                 NaN   \n",
       "3  Escritório Arquitetura/Interiores               2011.0       Sem Indicação   \n",
       "4                             Outros               2020.0       Sem Indicação   \n",
       "\n",
       "              Persona  Faixa de Funcionários Faixa Etária da Empresa  \\\n",
       "0                 NaN                    NaN                     NaN   \n",
       "1                 NaN                    NaN                     NaN   \n",
       "2                 NaN                    NaN                     NaN   \n",
       "3  Arquitetura/Design  De 1 a 5 funcionários            Estabelecida   \n",
       "4              Outros  De 1 a 5 funcionários            Recém-criada   \n",
       "\n",
       "  Data da assinatura  \n",
       "0         2022-02-02  \n",
       "1         2022-03-21  \n",
       "2         2022-01-24  \n",
       "3                NaT  \n",
       "4                NaT  "
      ]
     },
     "execution_count": 137,
     "metadata": {},
     "output_type": "execute_result"
    }
   ],
   "source": [
    "df_geral.head()"
   ]
  },
  {
   "cell_type": "markdown",
   "metadata": {},
   "source": [
    "Após a junção das duas bases de dados, foram identificados alguns problemas pontuais que necessitaram de tratamento. O primeiro deles envolveu leads com data de venda no futuro, onde o campo de \"Data da assinatura\" apresentava uma data posterior à data atual, o que é inconsistente. Além disso, alguns registros exibiam uma data de venda anterior à data de criação do lead, o que também gerava uma incongruência temporal, uma vez que a venda não poderia ocorrer antes do lead ser gerado.\n",
    "\n",
    "Outro ponto de atenção foi o fato de alguns leads (identificados pelo id_cliente) possuírem registros de vendas, mas não estarem presentes na base de leads. Esses casos não poderiam ser aproveitados, pois não tinham informações relevantes, como 'Persona', 'Tipo de Empresa' e 'Estado', entre outras. Para esses casos, foi criada uma base separada, com uma coluna específica que indicava o problema, o que permite um tratamento posterior.\n",
    "\n",
    "Em um ambiente de produção real, essa base com inconsistências seria compartilhada com os membros da equipe ou com outras áreas envolvidas, a fim de investigar as causas dessas discrepâncias e buscar soluções adequadas para garantir a qualidade e a consistência dos dados ao longo do processo."
   ]
  },
  {
   "cell_type": "code",
   "execution_count": 138,
   "metadata": {},
   "outputs": [],
   "source": [
    "# Data de hoje para validação\n",
    "data_atual = pd.Timestamp(date.today())\n",
    "\n",
    "# Garantir que as colunas de datas estejam no formato correto\n",
    "df_geral['Data da assinatura'] = pd.to_datetime(df_geral['Data da assinatura'], errors='coerce')\n",
    "df_geral['Data de Criação'] = pd.to_datetime(df_geral['Data de Criação'], errors='coerce')\n",
    "\n",
    "# Criar uma nova coluna 'Problema' para identificar o motivo da inconsistência\n",
    "df_geral['Problema'] = \"\"\n",
    "\n",
    "# Condições para identificar inconsistências\n",
    "condicoes = [\n",
    "    df_geral['Data da assinatura'] > data_atual,  # Vendas no futuro\n",
    "    df_geral['Data da assinatura'] < df_geral['Data de Criação'],  # Venda antes da criação do Lead\n",
    "    df_geral['Data de Criação'].isna()  # Clientes sem dados de criação\n",
    "]\n",
    "\n",
    "# Definir os motivos para cada condição\n",
    "motivos = [\n",
    "    'Data de venda no futuro',\n",
    "    'Data de venda anterior à data de criação do Lead',\n",
    "    'Cliente não está na base de Leads'\n",
    "]\n",
    "\n",
    "# Atualizar a coluna 'Problema' com base nas condições\n",
    "df_geral['Problema'] = np.select(condicoes, motivos, default=\"\")\n",
    "\n",
    "# Filtrar registros inválidos (linhas com problemas)\n",
    "df_invalido = df_geral[df_geral['Problema'].notna()]\n",
    "\n",
    "# Remover registros inválidos da base geral\n",
    "df_geral = df_geral[df_geral['Problema'] == \"\"]\n",
    "\n",
    "# Excluir a coluna 'Problema' da base geral (se não for mais necessária)\n",
    "df_geral.drop(columns=['Problema'], inplace=True)\n"
   ]
  },
  {
   "cell_type": "code",
   "execution_count": 139,
   "metadata": {},
   "outputs": [],
   "source": [
    "#exportanto a base com dados descartados da análise\n",
    "df_invalido.to_excel(\"dados_invalidos.xlsx\", index=False)"
   ]
  },
  {
   "cell_type": "markdown",
   "metadata": {},
   "source": [
    "Após a separação dos dados inválidos e a exclusão dos mesmos da base geral, foi criada uma coluna denominada \"Lead Convertido\", que recebe o valor \"1\" caso exista uma data de assinatura (indicando que o lead foi convertido) e \"0\" caso o campo esteja vazio, sinalizando que o lead ainda está em aberto. Essa coluna foi pensada para ser utilizada posteriormente no modelo de machine learning, fornecendo um indicador binário para diferenciar os leads convertidos dos não convertidos.\n",
    "\n",
    "Além disso, foi criada uma nova coluna chamada \"Tempo de Lead\", que calcula o tempo que o lead esteve ou está em aberto, com base na coluna \"Lead Convertido\". Se o lead foi convertido (com \"Lead Convertido\" igual a 1), o valor de \"Tempo de Lead\" é calculado pela diferença entre a Data de Assinatura e a Data de Criação do Lead. Para os leads não convertidos (aqueles com \"Lead Convertido\" igual a 0 e que ainda estão em aberto), a coluna \"Tempo de Lead\" indica quantos dias o lead está em aberto. Para esses casos, o campo deve ser atualizado periodicamente.\n",
    "\n",
    "Mais uma vez, considerando que a base de dados contém registros apenas até março de 2022, foi adotada uma data fictícia de referência: 6 de abril de 2022. Isso garante que o cálculo do tempo de lead não resulte em valores excessivamente grandes ou irreais, mantendo a consistência e a utilidade dos dados para análise simulando um ambiente de produção real."
   ]
  },
  {
   "cell_type": "code",
   "execution_count": 140,
   "metadata": {},
   "outputs": [],
   "source": [
    "# Criar coluna indicando se o lead foi convertido ou não\n",
    "df_geral['Lead Convertido'] = np.where(df_geral['Data da assinatura'].notna(), 1, 0)\n",
    "\n",
    "# Data fictícia criada com base nas datas analisadas na base, para calcular o tempo de Lead na base\n",
    "data_referencia = datetime(2022, 4, 6)\n",
    "\n",
    "# Calcula o tempo (em dias) com base na lógica de assinatura e leads em aberto, considerando a coluna 'Lead Convertido'\n",
    "df_geral['Tempo de Lead'] = df_geral.apply(\n",
    "    lambda row: (row['Data da assinatura'] - row['Data de Criação']).days\n",
    "    if row['Lead Convertido'] == 1  # Se o lead foi convertido\n",
    "    else (data_referencia - row['Data de Criação']).days,  # Caso o lead ainda esteja em aberto\n",
    "    axis=1\n",
    ")\n"
   ]
  },
  {
   "cell_type": "markdown",
   "metadata": {},
   "source": [
    "### Machine Learning para classificação dos Leads"
   ]
  },
  {
   "cell_type": "markdown",
   "metadata": {},
   "source": [
    "Após o tratamento inicial dos dados, passamos para a etapa final do processamento, cujo objetivo principal é classificar os leads com base na probabilidade de conversão. Para isso, utilizamos um modelo de machine learning treinado a partir dos padrões observados na variável \"Lead Convertido\", que indica se um lead foi convertido (1) ou não (0). O modelo escolhido foi o XGBoost, uma técnica avançada de aprendizado baseada em árvores de decisão, reconhecida por sua eficiência na resolução de problemas de classificação.\n",
    "\n",
    "Inicialmente, aplicamos um pré-processamento para preparar os dados para o modelo. As variáveis numéricas foram padronizadas com StandardScaler, garantindo que todas possuíssem a mesma escala, enquanto as variáveis categóricas foram transformadas em valores numéricos por meio da codificação One-Hot, permitindo que o modelo compreendesse suas relações de maneira mais eficiente. Além disso, como a base de dados apresentava um desbalanceamento entre leads convertidos e não convertidos, utilizamos o SMOTE (Synthetic Minority Over-sampling Technique) para equilibrar as classes, gerando exemplos sintéticos da classe minoritária e evitando que o modelo favorecesse a classe mais frequente.\n",
    "\n",
    "Com os dados preparados, realizamos a divisão entre treino e teste, reservando 80% dos registros para o treinamento do modelo e 20% para avaliação. O modelo foi configurado para evitar overfitting, utilizando uma taxa de aprendizado reduzida, profundidade controlada e subamostragem dos dados. Após o treinamento, avaliamos seu desempenho utilizando métricas de classificação, como precisão, recall e f1-score, além da métrica AUC-ROC, que mede a capacidade do modelo de distinguir entre leads convertidos e não convertidos.\n",
    "\n",
    "Por fim, aplicamos o modelo à base completa para prever a probabilidade de conversão de cada lead. A partir desses valores, segmentamos os leads em quatro categorias: Frio, Morno, Quente e Muito Quente, com base nos quantis da distribuição das probabilidades. Essa classificação permite que a equipe comercial priorize leads com maior potencial de conversão, tornando o processo de captação mais eficiente e estratégico. O processo foi concluído com sucesso e a pontuação dos leads foi gerada de forma automatizada."
   ]
  },
  {
   "cell_type": "code",
   "execution_count": null,
   "metadata": {},
   "outputs": [],
   "source": [
    "from sklearn.model_selection import train_test_split\n",
    "from sklearn.metrics import classification_report, roc_auc_score\n",
    "from sklearn.preprocessing import StandardScaler, OneHotEncoder\n",
    "from sklearn.compose import ColumnTransformer\n",
    "from imblearn.over_sampling import SMOTE\n",
    "from xgboost import XGBClassifier\n",
    "\n",
    "# Definição das colunas que serão utilizadas no modelo\n",
    "FEATURE_COLUMNS = [\n",
    "    'Estado', 'Número de Funcionários', 'Tipo de Empresa', 'Fundação da Empresa',\n",
    "    'Faixa Etária da Empresa', 'Faixa de Funcionários', 'Código de Indicação', 'Tempo de Lead', 'Lead Convertido'\n",
    "]\n",
    "\n",
    "# Filtrando os dados para manter apenas as colunas necessárias e removendo os registros com valores nulos\n",
    "df_cluster = df_geral[FEATURE_COLUMNS].dropna()\n",
    "\n",
    "# Separação das variáveis preditoras (X) e variável alvo (y)\n",
    "# X contém as variáveis que serão usadas para prever a variável alvo, 'Lead Convertido'\n",
    "X = df_cluster.drop(columns=['Lead Convertido'])\n",
    "y = df_cluster['Lead Convertido']\n",
    "\n",
    "# Definição das variáveis categóricas e numéricas\n",
    "CATEGORICAL_FEATURES = ['Estado', 'Tipo de Empresa', 'Código de Indicação', 'Faixa Etária da Empresa', 'Faixa de Funcionários']\n",
    "NUMERICAL_FEATURES = ['Número de Funcionários', 'Fundação da Empresa', 'Tempo de Lead']\n",
    "\n",
    "# Definição de um pipeline de pré-processamento para as variáveis\n",
    "# As variáveis numéricas serão normalizadas (StandardScaler) e as variáveis categóricas serão codificadas (OneHotEncoder)\n",
    "data_preprocessor = ColumnTransformer(\n",
    "    transformers=[\n",
    "        ('num', StandardScaler(), NUMERICAL_FEATURES),  # Normalização das variáveis numéricas\n",
    "        ('cat', OneHotEncoder(drop='first'), CATEGORICAL_FEATURES)  # Codificação one-hot das variáveis categóricas\n",
    "    ]\n",
    ")\n",
    "\n",
    "# Aplicação do pré-processamento nas variáveis preditoras\n",
    "X_preprocessed = data_preprocessor.fit_transform(X)\n",
    "\n",
    "# Aplicação de SMOTE para balanceamento da base de dados\n",
    "# SMOTE (Synthetic Minority Over-sampling Technique) cria exemplos sintéticos para a classe minoritária\n",
    "smote = SMOTE(random_state=42)\n",
    "X_resampled, y_resampled = smote.fit_resample(X_preprocessed, y)\n",
    "\n",
    "# Divisão dos dados em conjuntos de treino (80%) e teste (20%)\n",
    "# A divisão é feita de forma estratificada para garantir que a proporção das classes seja mantida\n",
    "X_train, X_test, y_train, y_test = train_test_split(\n",
    "    X_resampled, y_resampled, test_size=0.2, random_state=42, stratify=y_resampled\n",
    ")\n",
    "\n",
    "# Configuração do modelo XGBoost\n",
    "xgb_model = XGBClassifier(\n",
    "    colsample_bytree=0.8,  # Reduz a correlação entre as árvores para evitar overfitting\n",
    "    learning_rate=0.03,  # Taxa de aprendizado menor, para ajuste mais fino\n",
    "    max_depth=4,  # Limita a profundidade das árvores para evitar overfitting\n",
    "    n_estimators=200,  # Número de árvores a serem usadas, aumentando a generalização\n",
    "    subsample=0.8,  # Usando uma amostra parcial de dados para cada árvore, o que também ajuda a evitar overfitting\n",
    "    random_state=42,  # Garante a reprodutibilidade dos resultados\n",
    "    eval_metric='logloss',  # Métrica de avaliação padrão para problemas de classificação binária\n",
    ")\n",
    "\n",
    "# Treinamento do modelo com os dados de treino\n",
    "xgb_model.fit(X_train, y_train)\n",
    "\n",
    "# Avaliação do modelo com os dados de teste\n",
    "# A classificação e as métricas de desempenho são calculadas e exibidas\n",
    "y_pred = xgb_model.predict(X_test)\n",
    "print(classification_report(y_test, y_pred))\n",
    "\n",
    "# Cálculo da métrica AUC-ROC para avaliar o desempenho do modelo\n",
    "# A métrica AUC-ROC indica a capacidade do modelo de separar as classes (positivo/negativo)\n",
    "y_pred_proba = xgb_model.predict_proba(X_test)[:, 1]\n",
    "roc_auc = roc_auc_score(y_test, y_pred_proba)\n",
    "print(f\"AUC-ROC: {roc_auc:.4f}\")\n",
    "\n",
    "# Aplicação do modelo treinado na base completa para gerar as pontuações dos leads\n",
    "df_geral['score_lead_xgb'] = xgb_model.predict_proba(data_preprocessor.transform(X))[:, 1]\n",
    "\n",
    "# Cálculo dos quantis para segmentar as pontuações dos leads em faixas\n",
    "quantiles = df_geral['score_lead_xgb'].quantile([0, 0.25, 0.6, 0.8, 1]).unique()\n",
    "\n",
    "# Garantindo pelo menos 5 valores únicos para as faixas de segmentação\n",
    "# Caso contrário, cria-se 5 faixas iguais (distribuídas uniformemente entre o valor mínimo e máximo)\n",
    "if len(quantiles) < 5:\n",
    "    quantiles = np.linspace(df_geral['score_lead_xgb'].min(), df_geral['score_lead_xgb'].max(), num=5)\n",
    "\n",
    "# Definição das categorias para a pontuação dos leads (em termos qualitativos)\n",
    "SCORE_LABELS = ['Frio', 'Morno', 'Quente', 'Muito Quente']\n",
    "# Segmentação dos leads conforme a pontuação calculada, utilizando os quantis para definir os limites de cada categoria\n",
    "df_geral['Classificação Lead'] = pd.cut(df_geral['score_lead_xgb'], bins=quantiles, labels=SCORE_LABELS, include_lowest=True)\n",
    "\n",
    "# Remoção da coluna 'score_lead_xgb' após a segmentação, pois a classificação já foi gerada\n",
    "df_geral.drop(columns=['score_lead_xgb'], inplace=True)"
   ]
  },
  {
   "cell_type": "code",
   "execution_count": null,
   "metadata": {},
   "outputs": [],
   "source": [
    "df_geral.to_excel(\"base_final.xlsx\", index= False)"
   ]
  }
 ],
 "metadata": {
  "kernelspec": {
   "display_name": "Python 3",
   "language": "python",
   "name": "python3"
  },
  "language_info": {
   "codemirror_mode": {
    "name": "ipython",
    "version": 3
   },
   "file_extension": ".py",
   "mimetype": "text/x-python",
   "name": "python",
   "nbconvert_exporter": "python",
   "pygments_lexer": "ipython3",
   "version": "3.10.11"
  }
 },
 "nbformat": 4,
 "nbformat_minor": 2
}
